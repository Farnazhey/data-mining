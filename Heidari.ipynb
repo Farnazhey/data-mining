{
 "cells": [
  {
   "cell_type": "code",
   "execution_count": 1,
   "id": "b1bd7e0f",
   "metadata": {},
   "outputs": [],
   "source": [
    "#!pip install openpyxl\n",
    "#!pip install hazm\n",
    "#!pip install textblob\n",
    "#!pip install numpy\n",
    "#!pip install pandas\n",
    "#!pip install ipykernel"
   ]
  },
  {
   "attachments": {},
   "cell_type": "markdown",
   "id": "5b63e2a7",
   "metadata": {},
   "source": [
    "### Libraries"
   ]
  },
  {
   "cell_type": "code",
   "execution_count": 2,
   "id": "48f76919",
   "metadata": {},
   "outputs": [],
   "source": [
    "import numpy as np   #linear algebra\n",
    "import pandas as pd  #data processing, CSV file I/O (e.g. pd.read_csv)\n",
    "from hazm import *\n",
    "import re\n",
    "from sklearn.feature_extraction.text import CountVectorizer # import and instantiate CountVectorizer\n",
    "from sklearn.model_selection import train_test_split\n",
    "from textblob import TextBlob\n",
    "from textblob import Word\n",
    "from sklearn.feature_extraction.text import CountVectorizer, TfidfVectorizer\n",
    "import sklearn.feature_extraction.text as text\n",
    "from sklearn.svm import SVC\n",
    "from sklearn import model_selection, preprocessing, linear_model, naive_bayes, metrics\n",
    "from sklearn.naive_bayes import MultinomialNB, BernoulliNB\n",
    "from sklearn.model_selection import GridSearchCV\n",
    "from sklearn.metrics import classification_report, confusion_matrix\n",
    "from sklearn.tree import DecisionTreeClassifier\n",
    "import seaborn as sns # for statistical data visualization\n",
    "import matplotlib.pyplot as plt # for data visualization"
   ]
  },
  {
   "attachments": {},
   "cell_type": "markdown",
   "id": "547c2530",
   "metadata": {},
   "source": [
    "### *read data*"
   ]
  },
  {
   "cell_type": "code",
   "execution_count": 3,
   "id": "b9aa9e8f",
   "metadata": {},
   "outputs": [
    {
     "data": {
      "text/plain": [
       "(100000, 12)"
      ]
     },
     "execution_count": 3,
     "metadata": {},
     "output_type": "execute_result"
    }
   ],
   "source": [
    "dataframe = pd.read_excel('data.xlsx')\n",
    "dataframe.shape"
   ]
  },
  {
   "cell_type": "code",
   "execution_count": 4,
   "id": "a065c86f",
   "metadata": {},
   "outputs": [
    {
     "data": {
      "text/html": [
       "<div>\n",
       "<style scoped>\n",
       "    .dataframe tbody tr th:only-of-type {\n",
       "        vertical-align: middle;\n",
       "    }\n",
       "\n",
       "    .dataframe tbody tr th {\n",
       "        vertical-align: top;\n",
       "    }\n",
       "\n",
       "    .dataframe thead th {\n",
       "        text-align: right;\n",
       "    }\n",
       "</style>\n",
       "<table border=\"1\" class=\"dataframe\">\n",
       "  <thead>\n",
       "    <tr style=\"text-align: right;\">\n",
       "      <th></th>\n",
       "      <th>product_id</th>\n",
       "      <th>product_title</th>\n",
       "      <th>title_en</th>\n",
       "      <th>user_id</th>\n",
       "      <th>likes</th>\n",
       "      <th>dislikes</th>\n",
       "      <th>verification_status</th>\n",
       "      <th>recommend</th>\n",
       "      <th>title</th>\n",
       "      <th>comment</th>\n",
       "      <th>advantages</th>\n",
       "      <th>disadvantages</th>\n",
       "    </tr>\n",
       "  </thead>\n",
       "  <tbody>\n",
       "    <tr>\n",
       "      <th>0</th>\n",
       "      <td>3692</td>\n",
       "      <td>ماوس بی‌سیم لاجیتک مدل M325</td>\n",
       "      <td>IT</td>\n",
       "      <td>989472</td>\n",
       "      <td>0</td>\n",
       "      <td>0</td>\n",
       "      <td>verified</td>\n",
       "      <td>\\N</td>\n",
       "      <td>NaN</td>\n",
       "      <td>واقعا عالیه. من که ازش خیلی راضیم</td>\n",
       "      <td>NaN</td>\n",
       "      <td>NaN</td>\n",
       "    </tr>\n",
       "    <tr>\n",
       "      <th>1</th>\n",
       "      <td>90213</td>\n",
       "      <td>شارژر همراه شیاومی مدل NDY-02-AN با ظرفیت 1000...</td>\n",
       "      <td>AC</td>\n",
       "      <td>3862150</td>\n",
       "      <td>4</td>\n",
       "      <td>1</td>\n",
       "      <td>verified</td>\n",
       "      <td>recommended</td>\n",
       "      <td>واقعاً عالیه</td>\n",
       "      <td>سلام، قبل اینکه نظرم رو بگم میخواستم به یک موض...</td>\n",
       "      <td>[\"عمر طولانی\\r\",\"افت بسیار کم میزان شارژ\\r\",\"ا...</td>\n",
       "      <td>[\"ندارد\"]</td>\n",
       "    </tr>\n",
       "    <tr>\n",
       "      <th>2</th>\n",
       "      <td>59473</td>\n",
       "      <td>یدک پولیشر میکروفایبر مهسان مدل 20119</td>\n",
       "      <td>HW</td>\n",
       "      <td>626843</td>\n",
       "      <td>1</td>\n",
       "      <td>0</td>\n",
       "      <td>verified</td>\n",
       "      <td>not_recommended</td>\n",
       "      <td>خیلی سخت حوله اش در میاد</td>\n",
       "      <td>گیره های فلزی خیلی سخت تا میشوند و لذا حوله را...</td>\n",
       "      <td>NaN</td>\n",
       "      <td>NaN</td>\n",
       "    </tr>\n",
       "    <tr>\n",
       "      <th>3</th>\n",
       "      <td>120499</td>\n",
       "      <td>گوشی موبایل هوآوی آنر مدل 5X KIW-L21 دو سیم‌کارت</td>\n",
       "      <td>MO</td>\n",
       "      <td>786887</td>\n",
       "      <td>6</td>\n",
       "      <td>11</td>\n",
       "      <td>verified</td>\n",
       "      <td>no_idea</td>\n",
       "      <td>گوشی مقرون به صرفه</td>\n",
       "      <td>همه چیز در رابطه با ظاهر این گوشی بسیار خوب اس...</td>\n",
       "      <td>[\"صفحه نمایش پرنور و با کیفیت\\r\",\"کیفیت بالای ...</td>\n",
       "      <td>[\"کیفیت پایین اسپیکر\\r\",\"حاشیه خالی زیر صفحه ن...</td>\n",
       "    </tr>\n",
       "    <tr>\n",
       "      <th>4</th>\n",
       "      <td>67200</td>\n",
       "      <td>شارژر همراه شیائومی مدل Mi ظرفیت 5000 میلی آمپ...</td>\n",
       "      <td>AC</td>\n",
       "      <td>854531</td>\n",
       "      <td>19</td>\n",
       "      <td>4</td>\n",
       "      <td>verified</td>\n",
       "      <td>no_idea</td>\n",
       "      <td>ابعاد، استحکام و نگهداری شارژ مناسب</td>\n",
       "      <td>اگر ظرفیتش براتون کافیه حتما بخرید._x000D_\\nیه...</td>\n",
       "      <td>[\"ظریف و زیبا و باریک\\r\",\"بدنه محکم و با دوام\"]</td>\n",
       "      <td>[\"ظرفیت متوسط\"]</td>\n",
       "    </tr>\n",
       "  </tbody>\n",
       "</table>\n",
       "</div>"
      ],
      "text/plain": [
       "   product_id                                      product_title title_en  \\\n",
       "0        3692                        ماوس بی‌سیم لاجیتک مدل M325       IT   \n",
       "1       90213  شارژر همراه شیاومی مدل NDY-02-AN با ظرفیت 1000...       AC   \n",
       "2       59473              یدک پولیشر میکروفایبر مهسان مدل 20119       HW   \n",
       "3      120499   گوشی موبایل هوآوی آنر مدل 5X KIW-L21 دو سیم‌کارت       MO   \n",
       "4       67200  شارژر همراه شیائومی مدل Mi ظرفیت 5000 میلی آمپ...       AC   \n",
       "\n",
       "   user_id  likes  dislikes verification_status        recommend  \\\n",
       "0   989472      0         0            verified               \\N   \n",
       "1  3862150      4         1            verified      recommended   \n",
       "2   626843      1         0            verified  not_recommended   \n",
       "3   786887      6        11            verified          no_idea   \n",
       "4   854531     19         4            verified          no_idea   \n",
       "\n",
       "                                 title  \\\n",
       "0                                  NaN   \n",
       "1                         واقعاً عالیه   \n",
       "2             خیلی سخت حوله اش در میاد   \n",
       "3                   گوشی مقرون به صرفه   \n",
       "4  ابعاد، استحکام و نگهداری شارژ مناسب   \n",
       "\n",
       "                                             comment  \\\n",
       "0                  واقعا عالیه. من که ازش خیلی راضیم   \n",
       "1  سلام، قبل اینکه نظرم رو بگم میخواستم به یک موض...   \n",
       "2  گیره های فلزی خیلی سخت تا میشوند و لذا حوله را...   \n",
       "3  همه چیز در رابطه با ظاهر این گوشی بسیار خوب اس...   \n",
       "4  اگر ظرفیتش براتون کافیه حتما بخرید._x000D_\\nیه...   \n",
       "\n",
       "                                          advantages  \\\n",
       "0                                                NaN   \n",
       "1  [\"عمر طولانی\\r\",\"افت بسیار کم میزان شارژ\\r\",\"ا...   \n",
       "2                                                NaN   \n",
       "3  [\"صفحه نمایش پرنور و با کیفیت\\r\",\"کیفیت بالای ...   \n",
       "4    [\"ظریف و زیبا و باریک\\r\",\"بدنه محکم و با دوام\"]   \n",
       "\n",
       "                                       disadvantages  \n",
       "0                                                NaN  \n",
       "1                                          [\"ندارد\"]  \n",
       "2                                                NaN  \n",
       "3  [\"کیفیت پایین اسپیکر\\r\",\"حاشیه خالی زیر صفحه ن...  \n",
       "4                                    [\"ظرفیت متوسط\"]  "
      ]
     },
     "execution_count": 4,
     "metadata": {},
     "output_type": "execute_result"
    }
   ],
   "source": [
    "dataframe.head() #Preview the dataset"
   ]
  },
  {
   "cell_type": "code",
   "execution_count": 5,
   "id": "01041ee8",
   "metadata": {
    "scrolled": true
   },
   "outputs": [
    {
     "data": {
      "text/plain": [
       "product_id              int64\n",
       "product_title          object\n",
       "title_en               object\n",
       "user_id                 int64\n",
       "likes                   int64\n",
       "dislikes                int64\n",
       "verification_status    object\n",
       "recommend              object\n",
       "title                  object\n",
       "comment                object\n",
       "advantages             object\n",
       "disadvantages          object\n",
       "dtype: object"
      ]
     },
     "execution_count": 5,
     "metadata": {},
     "output_type": "execute_result"
    }
   ],
   "source": [
    "dataframe.dtypes"
   ]
  },
  {
   "cell_type": "code",
   "execution_count": 6,
   "id": "c858a3ba",
   "metadata": {},
   "outputs": [
    {
     "name": "stdout",
     "output_type": "stream",
     "text": [
      "اگر ظرفیتش براتون کافیه حتما بخرید._x000D_\n",
      "یه شارژر 5 ولت 2 آمپر براش تهیه کنید تا سریعتر شارژ شه. خود برند شیائومی شارژر های خوبی داره._x000D_\n",
      "ظرافتش خوبه و وزن و ضخامت کمی داره و مثل یه موبایل راحت حمل میشه. البته پیشنهاد من ظرفیت های بالاتر هست. چون این مدل بسته به ظرفیت باتری گوشیتون صرفا به اندازه یک الی 2 بار شارژ کردن، انرژی ذخیره میکنه.\n",
      "+++++++++++++++++++++++++++++++++++++++++++++++\n",
      "اگر ظرفیتش براتون کافیه حتما بخرید. _x ۰۰۰ D_\n",
      "یه شارژر ۵ ولت ۲ آمپر براش تهیه کنید تا سریعتر شارژ شه. خود برند شیائومی شارژر‌های خوبی داره. _x ۰۰۰ D_\n",
      "ظرافتش خوبه و وزن و ضخامت کمی داره و مثل یه موبایل راحت حمل میشه. البته پیشنهاد من ظرفیت‌های بالاتر هست. چون این مدل بسته به ظرفیت باتری گوشیتون صرفا به اندازه یک الی ۲ بار شارژ کردن، انرژی ذخیره میکنه.\n"
     ]
    }
   ],
   "source": [
    "normalizer = Normalizer()\n",
    "print(dataframe['comment'][4])\n",
    "\n",
    "dataframe = dataframe.dropna()\n",
    "\n",
    "dataframe['comment'] = dataframe['comment'].apply(lambda x:normalizer.normalize(x)) # Normaliz Text\n",
    "dataframe['comment'] = dataframe['comment'].apply(lambda x: re.sub('[0-9]+', ' ', x))\n",
    "\n",
    "print('+++++++++++++++++++++++++++++++++++++++++++++++')\n",
    "print(dataframe['comment'][4])\n",
    "\n"
   ]
  },
  {
   "cell_type": "code",
   "execution_count": 7,
   "id": "a8d7c55b",
   "metadata": {},
   "outputs": [
    {
     "name": "stdout",
     "output_type": "stream",
     "text": [
      "['recommended' 'no_idea' '\\\\N' 'not_recommended']\n"
     ]
    },
    {
     "data": {
      "text/plain": [
       "(15611, 12)"
      ]
     },
     "execution_count": 7,
     "metadata": {},
     "output_type": "execute_result"
    }
   ],
   "source": [
    "#here we keep useful values of'recommend' column in df\n",
    "#print(dataframe.columns.values)\n",
    "print(dataframe.recommend.unique())\n",
    "\n",
    "df = dataframe\n",
    "df = df[(df['recommend'] == \"recommended\") | (df['recommend'] == \"not_recommended\")]\n",
    "df.shape #Check shape of the dataset"
   ]
  },
  {
   "cell_type": "code",
   "execution_count": 8,
   "id": "b2852c37",
   "metadata": {},
   "outputs": [
    {
     "data": {
      "text/plain": [
       "(7596, 12)"
      ]
     },
     "execution_count": 8,
     "metadata": {},
     "output_type": "execute_result"
    }
   ],
   "source": [
    "df = df[((df['likes']/df['dislikes'])>1)&(df['recommend'] == \"recommended\")\n",
    "       |((df['recommend'] == \"not_recommended\")&(df['dislikes']/df['likes']>1))]\n",
    "df.shape #Check shape of the dataset"
   ]
  },
  {
   "cell_type": "code",
   "execution_count": 9,
   "id": "3a2bcab0",
   "metadata": {
    "scrolled": true
   },
   "outputs": [
    {
     "data": {
      "text/html": [
       "<div>\n",
       "<style scoped>\n",
       "    .dataframe tbody tr th:only-of-type {\n",
       "        vertical-align: middle;\n",
       "    }\n",
       "\n",
       "    .dataframe tbody tr th {\n",
       "        vertical-align: top;\n",
       "    }\n",
       "\n",
       "    .dataframe thead th {\n",
       "        text-align: right;\n",
       "    }\n",
       "</style>\n",
       "<table border=\"1\" class=\"dataframe\">\n",
       "  <thead>\n",
       "    <tr style=\"text-align: right;\">\n",
       "      <th></th>\n",
       "      <th>recommend</th>\n",
       "      <th>comment</th>\n",
       "    </tr>\n",
       "  </thead>\n",
       "  <tbody>\n",
       "    <tr>\n",
       "      <th>1</th>\n",
       "      <td>recommended</td>\n",
       "      <td>سلام، قبل اینکه نظرم رو بگم می‌خواستم به یک مو...</td>\n",
       "    </tr>\n",
       "    <tr>\n",
       "      <th>5</th>\n",
       "      <td>recommended</td>\n",
       "      <td>سلام دوستان،، _x ۰۰۰ D_\\nمنم مثه بعضی از دوستا...</td>\n",
       "    </tr>\n",
       "    <tr>\n",
       "      <th>6</th>\n",
       "      <td>recommended</td>\n",
       "      <td>من چند سالی هست که این اسپیکرو خریدم و واقعا ح...</td>\n",
       "    </tr>\n",
       "    <tr>\n",
       "      <th>10</th>\n",
       "      <td>recommended</td>\n",
       "      <td>نزدیک به دو ساله که این هارد رو خریدم. استفاده...</td>\n",
       "    </tr>\n",
       "    <tr>\n",
       "      <th>12</th>\n",
       "      <td>recommended</td>\n",
       "      <td>افا از وقتی من اینو واسه پسرم خریدم همه بچه‌ها...</td>\n",
       "    </tr>\n",
       "    <tr>\n",
       "      <th>13</th>\n",
       "      <td>recommended</td>\n",
       "      <td>من این پاور بانک رو حدود یک سال پیش از دیجی کا...</td>\n",
       "    </tr>\n",
       "    <tr>\n",
       "      <th>20</th>\n",
       "      <td>not_recommended</td>\n",
       "      <td>سلام و خسته نباشید به تمامی کارکنان و بازدید ک...</td>\n",
       "    </tr>\n",
       "    <tr>\n",
       "      <th>24</th>\n",
       "      <td>recommended</td>\n",
       "      <td>اگر با قیمتش مشکلی ندارید نسبت به صداش شک نکنی...</td>\n",
       "    </tr>\n",
       "    <tr>\n",
       "      <th>26</th>\n",
       "      <td>recommended</td>\n",
       "      <td>آپدیت: دو سال و نیم گذشت از خریدم. بهترین گوشی...</td>\n",
       "    </tr>\n",
       "    <tr>\n",
       "      <th>29</th>\n",
       "      <td>recommended</td>\n",
       "      <td>با سلام_x ۰۰۰ D_\\nعالیه، امیدوارم شگفت‌انگیز ش...</td>\n",
       "    </tr>\n",
       "  </tbody>\n",
       "</table>\n",
       "</div>"
      ],
      "text/plain": [
       "          recommend                                            comment\n",
       "1       recommended  سلام، قبل اینکه نظرم رو بگم می‌خواستم به یک مو...\n",
       "5       recommended  سلام دوستان،، _x ۰۰۰ D_\\nمنم مثه بعضی از دوستا...\n",
       "6       recommended  من چند سالی هست که این اسپیکرو خریدم و واقعا ح...\n",
       "10      recommended  نزدیک به دو ساله که این هارد رو خریدم. استفاده...\n",
       "12      recommended  افا از وقتی من اینو واسه پسرم خریدم همه بچه‌ها...\n",
       "13      recommended  من این پاور بانک رو حدود یک سال پیش از دیجی کا...\n",
       "20  not_recommended  سلام و خسته نباشید به تمامی کارکنان و بازدید ک...\n",
       "24      recommended  اگر با قیمتش مشکلی ندارید نسبت به صداش شک نکنی...\n",
       "26      recommended  آپدیت: دو سال و نیم گذشت از خریدم. بهترین گوشی...\n",
       "29      recommended  با سلام_x ۰۰۰ D_\\nعالیه، امیدوارم شگفت‌انگیز ش..."
      ]
     },
     "execution_count": 9,
     "metadata": {},
     "output_type": "execute_result"
    }
   ],
   "source": [
    "df = df[['recommend','comment']]\n",
    "df.head(10) #Preview the dataset"
   ]
  },
  {
   "cell_type": "code",
   "execution_count": 10,
   "id": "113f9c6b",
   "metadata": {},
   "outputs": [
    {
     "data": {
      "text/plain": [
       "recommend    0\n",
       "comment      0\n",
       "dtype: int64"
      ]
     },
     "execution_count": 10,
     "metadata": {},
     "output_type": "execute_result"
    }
   ],
   "source": [
    "df.isnull().sum() #Check for missing values in dataset"
   ]
  },
  {
   "cell_type": "code",
   "execution_count": 11,
   "id": "51db4e89",
   "metadata": {},
   "outputs": [
    {
     "data": {
      "text/plain": [
       "(7596, 2)"
      ]
     },
     "execution_count": 11,
     "metadata": {},
     "output_type": "execute_result"
    }
   ],
   "source": [
    "df.shape #Check shape of the dataset"
   ]
  },
  {
   "cell_type": "code",
   "execution_count": 12,
   "id": "9c2477b1",
   "metadata": {},
   "outputs": [],
   "source": [
    "#!pip install textblob"
   ]
  },
  {
   "cell_type": "code",
   "execution_count": 13,
   "id": "3d50bf0e",
   "metadata": {
    "scrolled": true
   },
   "outputs": [
    {
     "data": {
      "text/plain": [
       "array([0.0771187 , 0.23331889, 0.34412979, ..., 0.12803954, 0.10109354,\n",
       "       0.20126991])"
      ]
     },
     "execution_count": 13,
     "metadata": {},
     "output_type": "execute_result"
    }
   ],
   "source": [
    "train_x, valid_x, train_y, valid_y = model_selection.train_test_split(df['comment'], df['recommend'], test_size=0.25)\n",
    "\n",
    "encoder = preprocessing.LabelEncoder()\n",
    "train_y = encoder.fit_transform(train_y)\n",
    "valid_y = encoder.fit_transform(valid_y)\n",
    "\n",
    "tfidf_vect = TfidfVectorizer(analyzer='word', token_pattern=r'\\w{1,}', max_features=5000)\n",
    "tfidf_vect.fit(df['comment'])\n",
    "xtrain_tfidf = tfidf_vect.transform(train_x)\n",
    "xvalid_tfidf = tfidf_vect.transform(valid_x)\n",
    "xtrain_tfidf.data"
   ]
  },
  {
   "cell_type": "code",
   "execution_count": 14,
   "id": "baaa459f",
   "metadata": {},
   "outputs": [],
   "source": [
    "#print(valid_y)"
   ]
  },
  {
   "cell_type": "code",
   "execution_count": 15,
   "id": "25abc6df",
   "metadata": {},
   "outputs": [
    {
     "name": "stdout",
     "output_type": "stream",
     "text": [
      "Train shapes : X = (5697, 5000), y = (5697,)\n",
      "Test shapes : X = (1899, 5000), y = (1899,)\n"
     ]
    }
   ],
   "source": [
    "print(\"Train shapes : X = {}, y = {}\".format(xtrain_tfidf.shape,train_y.shape))\n",
    "print(\"Test shapes : X = {}, y = {}\".format(xvalid_tfidf.shape,valid_y.shape))"
   ]
  },
  {
   "attachments": {},
   "cell_type": "markdown",
   "id": "9952821b",
   "metadata": {},
   "source": [
    "-----\n",
    "-----"
   ]
  },
  {
   "attachments": {},
   "cell_type": "markdown",
   "id": "c25797c9",
   "metadata": {},
   "source": [
    "### *Model Generation Logistic Regression*"
   ]
  },
  {
   "cell_type": "code",
   "execution_count": 16,
   "id": "7158f7a8",
   "metadata": {
    "scrolled": true
   },
   "outputs": [
    {
     "name": "stdout",
     "output_type": "stream",
     "text": [
      "Accuracy:  0.8920484465508162\n"
     ]
    }
   ],
   "source": [
    "classifier_LR = linear_model.LogisticRegression()\n",
    "classifier_LR.fit(xtrain_tfidf,train_y)\n",
    "\n",
    "pred_LR = classifier_LR.predict(xvalid_tfidf)\n",
    "print (\"Accuracy: \",metrics.accuracy_score(pred_LR, valid_y))\n"
   ]
  },
  {
   "cell_type": "code",
   "execution_count": 17,
   "id": "109ba96b",
   "metadata": {},
   "outputs": [
    {
     "name": "stdout",
     "output_type": "stream",
     "text": [
      "Accuracy_LR(in %): 0.89\n"
     ]
    }
   ],
   "source": [
    "Accuracy_LR=round(metrics.accuracy_score(pred_LR, valid_y),2)\n",
    "print(\"Accuracy_LR(in %):\", Accuracy_LR)"
   ]
  },
  {
   "cell_type": "code",
   "execution_count": 18,
   "id": "abbc55f1",
   "metadata": {},
   "outputs": [
    {
     "name": "stdout",
     "output_type": "stream",
     "text": [
      "[[  54  199]\n",
      " [   6 1640]] : is the confusion matrix\n",
      "              precision    recall  f1-score   support\n",
      "\n",
      "           0       0.90      0.21      0.35       253\n",
      "           1       0.89      1.00      0.94      1646\n",
      "\n",
      "    accuracy                           0.89      1899\n",
      "   macro avg       0.90      0.60      0.64      1899\n",
      "weighted avg       0.89      0.89      0.86      1899\n",
      "\n"
     ]
    }
   ],
   "source": [
    "#print confusion_matrix\n",
    "print(confusion_matrix(valid_y,pred_LR), \": is the confusion matrix\")\n",
    "print(classification_report(valid_y,pred_LR))"
   ]
  },
  {
   "attachments": {},
   "cell_type": "markdown",
   "id": "9283dd22",
   "metadata": {},
   "source": [
    "----\n",
    "----"
   ]
  },
  {
   "attachments": {},
   "cell_type": "markdown",
   "id": "dcc34528",
   "metadata": {},
   "source": [
    "### *Model Generation SVM*"
   ]
  },
  {
   "attachments": {},
   "cell_type": "markdown",
   "id": "ee265525",
   "metadata": {},
   "source": [
    "### *Support Vector Machine (SVM)(Simple)*"
   ]
  },
  {
   "cell_type": "code",
   "execution_count": 19,
   "id": "5167158d",
   "metadata": {},
   "outputs": [
    {
     "data": {
      "text/html": [
       "<style>#sk-container-id-1 {color: black;}#sk-container-id-1 pre{padding: 0;}#sk-container-id-1 div.sk-toggleable {background-color: white;}#sk-container-id-1 label.sk-toggleable__label {cursor: pointer;display: block;width: 100%;margin-bottom: 0;padding: 0.3em;box-sizing: border-box;text-align: center;}#sk-container-id-1 label.sk-toggleable__label-arrow:before {content: \"▸\";float: left;margin-right: 0.25em;color: #696969;}#sk-container-id-1 label.sk-toggleable__label-arrow:hover:before {color: black;}#sk-container-id-1 div.sk-estimator:hover label.sk-toggleable__label-arrow:before {color: black;}#sk-container-id-1 div.sk-toggleable__content {max-height: 0;max-width: 0;overflow: hidden;text-align: left;background-color: #f0f8ff;}#sk-container-id-1 div.sk-toggleable__content pre {margin: 0.2em;color: black;border-radius: 0.25em;background-color: #f0f8ff;}#sk-container-id-1 input.sk-toggleable__control:checked~div.sk-toggleable__content {max-height: 200px;max-width: 100%;overflow: auto;}#sk-container-id-1 input.sk-toggleable__control:checked~label.sk-toggleable__label-arrow:before {content: \"▾\";}#sk-container-id-1 div.sk-estimator input.sk-toggleable__control:checked~label.sk-toggleable__label {background-color: #d4ebff;}#sk-container-id-1 div.sk-label input.sk-toggleable__control:checked~label.sk-toggleable__label {background-color: #d4ebff;}#sk-container-id-1 input.sk-hidden--visually {border: 0;clip: rect(1px 1px 1px 1px);clip: rect(1px, 1px, 1px, 1px);height: 1px;margin: -1px;overflow: hidden;padding: 0;position: absolute;width: 1px;}#sk-container-id-1 div.sk-estimator {font-family: monospace;background-color: #f0f8ff;border: 1px dotted black;border-radius: 0.25em;box-sizing: border-box;margin-bottom: 0.5em;}#sk-container-id-1 div.sk-estimator:hover {background-color: #d4ebff;}#sk-container-id-1 div.sk-parallel-item::after {content: \"\";width: 100%;border-bottom: 1px solid gray;flex-grow: 1;}#sk-container-id-1 div.sk-label:hover label.sk-toggleable__label {background-color: #d4ebff;}#sk-container-id-1 div.sk-serial::before {content: \"\";position: absolute;border-left: 1px solid gray;box-sizing: border-box;top: 0;bottom: 0;left: 50%;z-index: 0;}#sk-container-id-1 div.sk-serial {display: flex;flex-direction: column;align-items: center;background-color: white;padding-right: 0.2em;padding-left: 0.2em;position: relative;}#sk-container-id-1 div.sk-item {position: relative;z-index: 1;}#sk-container-id-1 div.sk-parallel {display: flex;align-items: stretch;justify-content: center;background-color: white;position: relative;}#sk-container-id-1 div.sk-item::before, #sk-container-id-1 div.sk-parallel-item::before {content: \"\";position: absolute;border-left: 1px solid gray;box-sizing: border-box;top: 0;bottom: 0;left: 50%;z-index: -1;}#sk-container-id-1 div.sk-parallel-item {display: flex;flex-direction: column;z-index: 1;position: relative;background-color: white;}#sk-container-id-1 div.sk-parallel-item:first-child::after {align-self: flex-end;width: 50%;}#sk-container-id-1 div.sk-parallel-item:last-child::after {align-self: flex-start;width: 50%;}#sk-container-id-1 div.sk-parallel-item:only-child::after {width: 0;}#sk-container-id-1 div.sk-dashed-wrapped {border: 1px dashed gray;margin: 0 0.4em 0.5em 0.4em;box-sizing: border-box;padding-bottom: 0.4em;background-color: white;}#sk-container-id-1 div.sk-label label {font-family: monospace;font-weight: bold;display: inline-block;line-height: 1.2em;}#sk-container-id-1 div.sk-label-container {text-align: center;}#sk-container-id-1 div.sk-container {/* jupyter's `normalize.less` sets `[hidden] { display: none; }` but bootstrap.min.css set `[hidden] { display: none !important; }` so we also need the `!important` here to be able to override the default hidden behavior on the sphinx rendered scikit-learn.org. See: https://github.com/scikit-learn/scikit-learn/issues/21755 */display: inline-block !important;position: relative;}#sk-container-id-1 div.sk-text-repr-fallback {display: none;}</style><div id=\"sk-container-id-1\" class=\"sk-top-container\"><div class=\"sk-text-repr-fallback\"><pre>SVC(kernel=&#x27;linear&#x27;)</pre><b>In a Jupyter environment, please rerun this cell to show the HTML representation or trust the notebook. <br />On GitHub, the HTML representation is unable to render, please try loading this page with nbviewer.org.</b></div><div class=\"sk-container\" hidden><div class=\"sk-item\"><div class=\"sk-estimator sk-toggleable\"><input class=\"sk-toggleable__control sk-hidden--visually\" id=\"sk-estimator-id-1\" type=\"checkbox\" checked><label for=\"sk-estimator-id-1\" class=\"sk-toggleable__label sk-toggleable__label-arrow\">SVC</label><div class=\"sk-toggleable__content\"><pre>SVC(kernel=&#x27;linear&#x27;)</pre></div></div></div></div></div>"
      ],
      "text/plain": [
       "SVC(kernel='linear')"
      ]
     },
     "execution_count": 19,
     "metadata": {},
     "output_type": "execute_result"
    }
   ],
   "source": [
    "# import support vector classifier\n",
    "# \"Support Vector Classifier\"\n",
    "#from sklearn.svm import SVC\n",
    "classifier_SVM = SVC(kernel='linear')\n",
    "\n",
    "# fitting x samples and y classes\n",
    "classifier_SVM.fit(xtrain_tfidf,train_y)\n"
   ]
  },
  {
   "cell_type": "code",
   "execution_count": 20,
   "id": "43602697",
   "metadata": {},
   "outputs": [
    {
     "name": "stdout",
     "output_type": "stream",
     "text": [
      "Accuracy:  0.9083728278041074\n"
     ]
    }
   ],
   "source": [
    "pred_SVM = classifier_SVM.predict(xvalid_tfidf)\n",
    "print (\"Accuracy: \",metrics.accuracy_score(pred_SVM, valid_y))"
   ]
  },
  {
   "cell_type": "code",
   "execution_count": 21,
   "id": "b48e60fc",
   "metadata": {},
   "outputs": [
    {
     "name": "stdout",
     "output_type": "stream",
     "text": [
      "Accuracy_LR(in %): 0.91\n"
     ]
    }
   ],
   "source": [
    "Accuracy_SVM=round(metrics.accuracy_score(pred_SVM, valid_y),2)\n",
    "print(\"Accuracy_LR(in %):\", Accuracy_SVM)"
   ]
  },
  {
   "cell_type": "code",
   "execution_count": 22,
   "id": "5ac7f7c7",
   "metadata": {},
   "outputs": [
    {
     "name": "stdout",
     "output_type": "stream",
     "text": [
      "[[  95  158]\n",
      " [  16 1630]] : is the confusion matrix\n",
      "              precision    recall  f1-score   support\n",
      "\n",
      "           0       0.86      0.38      0.52       253\n",
      "           1       0.91      0.99      0.95      1646\n",
      "\n",
      "    accuracy                           0.91      1899\n",
      "   macro avg       0.88      0.68      0.74      1899\n",
      "weighted avg       0.90      0.91      0.89      1899\n",
      "\n"
     ]
    }
   ],
   "source": [
    "print(confusion_matrix(valid_y,pred_SVM), \": is the confusion matrix\")\n",
    "print(classification_report(valid_y,pred_SVM))"
   ]
  },
  {
   "attachments": {},
   "cell_type": "markdown",
   "id": "58a63c1e",
   "metadata": {},
   "source": [
    "---\n",
    "---"
   ]
  },
  {
   "attachments": {},
   "cell_type": "markdown",
   "id": "d4921d05",
   "metadata": {},
   "source": [
    "### *GridSearchCV-SVM*"
   ]
  },
  {
   "cell_type": "code",
   "execution_count": 23,
   "id": "a92e6fca",
   "metadata": {},
   "outputs": [],
   "source": [
    "# defining parameter range\n",
    "#from sklearn.model_selection import GridSearchCV\n",
    "svm_param_grid = {'C': [0.1, 1, 10],\n",
    "              'gamma': [1, 0.1, 0.01 ],\n",
    "              'kernel': [\"linear\", \"rbf\", \"poly\", \"sigmoid\"]}\n",
    " \n",
    "svm_grid_search_cv = GridSearchCV(estimator=SVC(), param_grid=svm_param_grid, refit = True, cv=8)"
   ]
  },
  {
   "cell_type": "code",
   "execution_count": 24,
   "id": "da936b27",
   "metadata": {},
   "outputs": [
    {
     "data": {
      "text/html": [
       "<style>#sk-container-id-2 {color: black;}#sk-container-id-2 pre{padding: 0;}#sk-container-id-2 div.sk-toggleable {background-color: white;}#sk-container-id-2 label.sk-toggleable__label {cursor: pointer;display: block;width: 100%;margin-bottom: 0;padding: 0.3em;box-sizing: border-box;text-align: center;}#sk-container-id-2 label.sk-toggleable__label-arrow:before {content: \"▸\";float: left;margin-right: 0.25em;color: #696969;}#sk-container-id-2 label.sk-toggleable__label-arrow:hover:before {color: black;}#sk-container-id-2 div.sk-estimator:hover label.sk-toggleable__label-arrow:before {color: black;}#sk-container-id-2 div.sk-toggleable__content {max-height: 0;max-width: 0;overflow: hidden;text-align: left;background-color: #f0f8ff;}#sk-container-id-2 div.sk-toggleable__content pre {margin: 0.2em;color: black;border-radius: 0.25em;background-color: #f0f8ff;}#sk-container-id-2 input.sk-toggleable__control:checked~div.sk-toggleable__content {max-height: 200px;max-width: 100%;overflow: auto;}#sk-container-id-2 input.sk-toggleable__control:checked~label.sk-toggleable__label-arrow:before {content: \"▾\";}#sk-container-id-2 div.sk-estimator input.sk-toggleable__control:checked~label.sk-toggleable__label {background-color: #d4ebff;}#sk-container-id-2 div.sk-label input.sk-toggleable__control:checked~label.sk-toggleable__label {background-color: #d4ebff;}#sk-container-id-2 input.sk-hidden--visually {border: 0;clip: rect(1px 1px 1px 1px);clip: rect(1px, 1px, 1px, 1px);height: 1px;margin: -1px;overflow: hidden;padding: 0;position: absolute;width: 1px;}#sk-container-id-2 div.sk-estimator {font-family: monospace;background-color: #f0f8ff;border: 1px dotted black;border-radius: 0.25em;box-sizing: border-box;margin-bottom: 0.5em;}#sk-container-id-2 div.sk-estimator:hover {background-color: #d4ebff;}#sk-container-id-2 div.sk-parallel-item::after {content: \"\";width: 100%;border-bottom: 1px solid gray;flex-grow: 1;}#sk-container-id-2 div.sk-label:hover label.sk-toggleable__label {background-color: #d4ebff;}#sk-container-id-2 div.sk-serial::before {content: \"\";position: absolute;border-left: 1px solid gray;box-sizing: border-box;top: 0;bottom: 0;left: 50%;z-index: 0;}#sk-container-id-2 div.sk-serial {display: flex;flex-direction: column;align-items: center;background-color: white;padding-right: 0.2em;padding-left: 0.2em;position: relative;}#sk-container-id-2 div.sk-item {position: relative;z-index: 1;}#sk-container-id-2 div.sk-parallel {display: flex;align-items: stretch;justify-content: center;background-color: white;position: relative;}#sk-container-id-2 div.sk-item::before, #sk-container-id-2 div.sk-parallel-item::before {content: \"\";position: absolute;border-left: 1px solid gray;box-sizing: border-box;top: 0;bottom: 0;left: 50%;z-index: -1;}#sk-container-id-2 div.sk-parallel-item {display: flex;flex-direction: column;z-index: 1;position: relative;background-color: white;}#sk-container-id-2 div.sk-parallel-item:first-child::after {align-self: flex-end;width: 50%;}#sk-container-id-2 div.sk-parallel-item:last-child::after {align-self: flex-start;width: 50%;}#sk-container-id-2 div.sk-parallel-item:only-child::after {width: 0;}#sk-container-id-2 div.sk-dashed-wrapped {border: 1px dashed gray;margin: 0 0.4em 0.5em 0.4em;box-sizing: border-box;padding-bottom: 0.4em;background-color: white;}#sk-container-id-2 div.sk-label label {font-family: monospace;font-weight: bold;display: inline-block;line-height: 1.2em;}#sk-container-id-2 div.sk-label-container {text-align: center;}#sk-container-id-2 div.sk-container {/* jupyter's `normalize.less` sets `[hidden] { display: none; }` but bootstrap.min.css set `[hidden] { display: none !important; }` so we also need the `!important` here to be able to override the default hidden behavior on the sphinx rendered scikit-learn.org. See: https://github.com/scikit-learn/scikit-learn/issues/21755 */display: inline-block !important;position: relative;}#sk-container-id-2 div.sk-text-repr-fallback {display: none;}</style><div id=\"sk-container-id-2\" class=\"sk-top-container\"><div class=\"sk-text-repr-fallback\"><pre>GridSearchCV(cv=8, estimator=SVC(),\n",
       "             param_grid={&#x27;C&#x27;: [0.1, 1, 10], &#x27;gamma&#x27;: [1, 0.1, 0.01],\n",
       "                         &#x27;kernel&#x27;: [&#x27;linear&#x27;, &#x27;rbf&#x27;, &#x27;poly&#x27;, &#x27;sigmoid&#x27;]})</pre><b>In a Jupyter environment, please rerun this cell to show the HTML representation or trust the notebook. <br />On GitHub, the HTML representation is unable to render, please try loading this page with nbviewer.org.</b></div><div class=\"sk-container\" hidden><div class=\"sk-item sk-dashed-wrapped\"><div class=\"sk-label-container\"><div class=\"sk-label sk-toggleable\"><input class=\"sk-toggleable__control sk-hidden--visually\" id=\"sk-estimator-id-2\" type=\"checkbox\" ><label for=\"sk-estimator-id-2\" class=\"sk-toggleable__label sk-toggleable__label-arrow\">GridSearchCV</label><div class=\"sk-toggleable__content\"><pre>GridSearchCV(cv=8, estimator=SVC(),\n",
       "             param_grid={&#x27;C&#x27;: [0.1, 1, 10], &#x27;gamma&#x27;: [1, 0.1, 0.01],\n",
       "                         &#x27;kernel&#x27;: [&#x27;linear&#x27;, &#x27;rbf&#x27;, &#x27;poly&#x27;, &#x27;sigmoid&#x27;]})</pre></div></div></div><div class=\"sk-parallel\"><div class=\"sk-parallel-item\"><div class=\"sk-item\"><div class=\"sk-label-container\"><div class=\"sk-label sk-toggleable\"><input class=\"sk-toggleable__control sk-hidden--visually\" id=\"sk-estimator-id-3\" type=\"checkbox\" ><label for=\"sk-estimator-id-3\" class=\"sk-toggleable__label sk-toggleable__label-arrow\">estimator: SVC</label><div class=\"sk-toggleable__content\"><pre>SVC()</pre></div></div></div><div class=\"sk-serial\"><div class=\"sk-item\"><div class=\"sk-estimator sk-toggleable\"><input class=\"sk-toggleable__control sk-hidden--visually\" id=\"sk-estimator-id-4\" type=\"checkbox\" ><label for=\"sk-estimator-id-4\" class=\"sk-toggleable__label sk-toggleable__label-arrow\">SVC</label><div class=\"sk-toggleable__content\"><pre>SVC()</pre></div></div></div></div></div></div></div></div></div></div>"
      ],
      "text/plain": [
       "GridSearchCV(cv=8, estimator=SVC(),\n",
       "             param_grid={'C': [0.1, 1, 10], 'gamma': [1, 0.1, 0.01],\n",
       "                         'kernel': ['linear', 'rbf', 'poly', 'sigmoid']})"
      ]
     },
     "execution_count": 24,
     "metadata": {},
     "output_type": "execute_result"
    }
   ],
   "source": [
    "# fitting the model for grid search\n",
    "svm_grid_search_cv.fit(xtrain_tfidf,train_y)"
   ]
  },
  {
   "cell_type": "code",
   "execution_count": 25,
   "id": "dde6bc95",
   "metadata": {},
   "outputs": [
    {
     "data": {
      "text/plain": [
       "{'C': 10, 'gamma': 0.1, 'kernel': 'rbf'}"
      ]
     },
     "execution_count": 25,
     "metadata": {},
     "output_type": "execute_result"
    }
   ],
   "source": [
    "# print best parameter after tuning\n",
    "svm_grid_search_cv.best_params_"
   ]
  },
  {
   "cell_type": "code",
   "execution_count": 26,
   "id": "c1dd3fe7",
   "metadata": {},
   "outputs": [],
   "source": [
    "# print how our model looks after hyper-parameter tuning\n",
    "svm = svm_grid_search_cv.best_estimator_"
   ]
  },
  {
   "cell_type": "code",
   "execution_count": 27,
   "id": "91e4d516",
   "metadata": {},
   "outputs": [
    {
     "name": "stdout",
     "output_type": "stream",
     "text": [
      "[[ 119  134]\n",
      " [  32 1614]]\n",
      "              precision    recall  f1-score   support\n",
      "\n",
      "           0       0.79      0.47      0.59       253\n",
      "           1       0.92      0.98      0.95      1646\n",
      "\n",
      "    accuracy                           0.91      1899\n",
      "   macro avg       0.86      0.73      0.77      1899\n",
      "weighted avg       0.91      0.91      0.90      1899\n",
      "\n"
     ]
    }
   ],
   "source": [
    "grid_pred_SVM = svm_grid_search_cv.predict(xvalid_tfidf) \n",
    "\n",
    "# print classification report\n",
    "print(confusion_matrix(valid_y,grid_pred_SVM))\n",
    "print(classification_report(valid_y, grid_pred_SVM)) "
   ]
  },
  {
   "cell_type": "code",
   "execution_count": 28,
   "id": "c034ed64",
   "metadata": {},
   "outputs": [
    {
     "name": "stdout",
     "output_type": "stream",
     "text": [
      "Accuracy_SVM_GridSearchCV(in %): 0.91\n"
     ]
    }
   ],
   "source": [
    "Accuracy_SVM_GridSearchCV=round(metrics.accuracy_score(valid_y, grid_pred_SVM),2)\n",
    "print(\"Accuracy_SVM_GridSearchCV(in %):\", Accuracy_SVM_GridSearchCV)"
   ]
  },
  {
   "attachments": {},
   "cell_type": "markdown",
   "id": "8677a0cb",
   "metadata": {},
   "source": [
    "-----\n",
    "-----"
   ]
  },
  {
   "attachments": {},
   "cell_type": "markdown",
   "id": "2c7dfab3",
   "metadata": {},
   "source": [
    "### *Model Generation Decision Tree*"
   ]
  },
  {
   "cell_type": "code",
   "execution_count": 29,
   "id": "cec526c8",
   "metadata": {},
   "outputs": [
    {
     "data": {
      "text/html": [
       "<style>#sk-container-id-3 {color: black;}#sk-container-id-3 pre{padding: 0;}#sk-container-id-3 div.sk-toggleable {background-color: white;}#sk-container-id-3 label.sk-toggleable__label {cursor: pointer;display: block;width: 100%;margin-bottom: 0;padding: 0.3em;box-sizing: border-box;text-align: center;}#sk-container-id-3 label.sk-toggleable__label-arrow:before {content: \"▸\";float: left;margin-right: 0.25em;color: #696969;}#sk-container-id-3 label.sk-toggleable__label-arrow:hover:before {color: black;}#sk-container-id-3 div.sk-estimator:hover label.sk-toggleable__label-arrow:before {color: black;}#sk-container-id-3 div.sk-toggleable__content {max-height: 0;max-width: 0;overflow: hidden;text-align: left;background-color: #f0f8ff;}#sk-container-id-3 div.sk-toggleable__content pre {margin: 0.2em;color: black;border-radius: 0.25em;background-color: #f0f8ff;}#sk-container-id-3 input.sk-toggleable__control:checked~div.sk-toggleable__content {max-height: 200px;max-width: 100%;overflow: auto;}#sk-container-id-3 input.sk-toggleable__control:checked~label.sk-toggleable__label-arrow:before {content: \"▾\";}#sk-container-id-3 div.sk-estimator input.sk-toggleable__control:checked~label.sk-toggleable__label {background-color: #d4ebff;}#sk-container-id-3 div.sk-label input.sk-toggleable__control:checked~label.sk-toggleable__label {background-color: #d4ebff;}#sk-container-id-3 input.sk-hidden--visually {border: 0;clip: rect(1px 1px 1px 1px);clip: rect(1px, 1px, 1px, 1px);height: 1px;margin: -1px;overflow: hidden;padding: 0;position: absolute;width: 1px;}#sk-container-id-3 div.sk-estimator {font-family: monospace;background-color: #f0f8ff;border: 1px dotted black;border-radius: 0.25em;box-sizing: border-box;margin-bottom: 0.5em;}#sk-container-id-3 div.sk-estimator:hover {background-color: #d4ebff;}#sk-container-id-3 div.sk-parallel-item::after {content: \"\";width: 100%;border-bottom: 1px solid gray;flex-grow: 1;}#sk-container-id-3 div.sk-label:hover label.sk-toggleable__label {background-color: #d4ebff;}#sk-container-id-3 div.sk-serial::before {content: \"\";position: absolute;border-left: 1px solid gray;box-sizing: border-box;top: 0;bottom: 0;left: 50%;z-index: 0;}#sk-container-id-3 div.sk-serial {display: flex;flex-direction: column;align-items: center;background-color: white;padding-right: 0.2em;padding-left: 0.2em;position: relative;}#sk-container-id-3 div.sk-item {position: relative;z-index: 1;}#sk-container-id-3 div.sk-parallel {display: flex;align-items: stretch;justify-content: center;background-color: white;position: relative;}#sk-container-id-3 div.sk-item::before, #sk-container-id-3 div.sk-parallel-item::before {content: \"\";position: absolute;border-left: 1px solid gray;box-sizing: border-box;top: 0;bottom: 0;left: 50%;z-index: -1;}#sk-container-id-3 div.sk-parallel-item {display: flex;flex-direction: column;z-index: 1;position: relative;background-color: white;}#sk-container-id-3 div.sk-parallel-item:first-child::after {align-self: flex-end;width: 50%;}#sk-container-id-3 div.sk-parallel-item:last-child::after {align-self: flex-start;width: 50%;}#sk-container-id-3 div.sk-parallel-item:only-child::after {width: 0;}#sk-container-id-3 div.sk-dashed-wrapped {border: 1px dashed gray;margin: 0 0.4em 0.5em 0.4em;box-sizing: border-box;padding-bottom: 0.4em;background-color: white;}#sk-container-id-3 div.sk-label label {font-family: monospace;font-weight: bold;display: inline-block;line-height: 1.2em;}#sk-container-id-3 div.sk-label-container {text-align: center;}#sk-container-id-3 div.sk-container {/* jupyter's `normalize.less` sets `[hidden] { display: none; }` but bootstrap.min.css set `[hidden] { display: none !important; }` so we also need the `!important` here to be able to override the default hidden behavior on the sphinx rendered scikit-learn.org. See: https://github.com/scikit-learn/scikit-learn/issues/21755 */display: inline-block !important;position: relative;}#sk-container-id-3 div.sk-text-repr-fallback {display: none;}</style><div id=\"sk-container-id-3\" class=\"sk-top-container\"><div class=\"sk-text-repr-fallback\"><pre>DecisionTreeClassifier(criterion=&#x27;entropy&#x27;, max_depth=3)</pre><b>In a Jupyter environment, please rerun this cell to show the HTML representation or trust the notebook. <br />On GitHub, the HTML representation is unable to render, please try loading this page with nbviewer.org.</b></div><div class=\"sk-container\" hidden><div class=\"sk-item\"><div class=\"sk-estimator sk-toggleable\"><input class=\"sk-toggleable__control sk-hidden--visually\" id=\"sk-estimator-id-5\" type=\"checkbox\" checked><label for=\"sk-estimator-id-5\" class=\"sk-toggleable__label sk-toggleable__label-arrow\">DecisionTreeClassifier</label><div class=\"sk-toggleable__content\"><pre>DecisionTreeClassifier(criterion=&#x27;entropy&#x27;, max_depth=3)</pre></div></div></div></div></div>"
      ],
      "text/plain": [
       "DecisionTreeClassifier(criterion='entropy', max_depth=3)"
      ]
     },
     "execution_count": 29,
     "metadata": {},
     "output_type": "execute_result"
    }
   ],
   "source": [
    "#from sklearn.tree import DecisionTreeClassifier\n",
    "classifier_DT = DecisionTreeClassifier(criterion=\"entropy\", max_depth=3)\n",
    "classifier_DT.fit(xtrain_tfidf,train_y)\n"
   ]
  },
  {
   "cell_type": "code",
   "execution_count": 30,
   "id": "73f79328",
   "metadata": {},
   "outputs": [
    {
     "name": "stdout",
     "output_type": "stream",
     "text": [
      "Accuracy:  0.8767772511848341\n"
     ]
    }
   ],
   "source": [
    "pred_DT = classifier_DT.predict(xvalid_tfidf)\n",
    "print (\"Accuracy: \",metrics.accuracy_score(pred_DT, valid_y))"
   ]
  },
  {
   "cell_type": "code",
   "execution_count": 31,
   "id": "ebe5ada3",
   "metadata": {},
   "outputs": [
    {
     "name": "stdout",
     "output_type": "stream",
     "text": [
      "Accuracy_DT(in %): 0.88\n"
     ]
    }
   ],
   "source": [
    "Accuracy_DT=round(metrics.accuracy_score(pred_DT, valid_y),2)\n",
    "print(\"Accuracy_DT(in %):\", Accuracy_DT)"
   ]
  },
  {
   "cell_type": "code",
   "execution_count": 32,
   "id": "44e1add1",
   "metadata": {},
   "outputs": [
    {
     "name": "stdout",
     "output_type": "stream",
     "text": [
      "[[  40  213]\n",
      " [  21 1625]]\n",
      "              precision    recall  f1-score   support\n",
      "\n",
      "           0       0.66      0.16      0.25       253\n",
      "           1       0.88      0.99      0.93      1646\n",
      "\n",
      "    accuracy                           0.88      1899\n",
      "   macro avg       0.77      0.57      0.59      1899\n",
      "weighted avg       0.85      0.88      0.84      1899\n",
      "\n"
     ]
    }
   ],
   "source": [
    "# print classification report\n",
    "print(confusion_matrix(valid_y,pred_DT))\n",
    "print(classification_report(valid_y, pred_DT))"
   ]
  },
  {
   "attachments": {},
   "cell_type": "markdown",
   "id": "374b7c11",
   "metadata": {},
   "source": [
    "----\n",
    "----"
   ]
  },
  {
   "attachments": {},
   "cell_type": "markdown",
   "id": "57776f14",
   "metadata": {},
   "source": [
    "### *Model Generation Naive Bayes*"
   ]
  },
  {
   "attachments": {},
   "cell_type": "markdown",
   "id": "b1c69df7",
   "metadata": {},
   "source": [
    "BernoulliNB():"
   ]
  },
  {
   "cell_type": "code",
   "execution_count": 33,
   "id": "5861bc41",
   "metadata": {},
   "outputs": [
    {
     "data": {
      "text/html": [
       "<style>#sk-container-id-4 {color: black;}#sk-container-id-4 pre{padding: 0;}#sk-container-id-4 div.sk-toggleable {background-color: white;}#sk-container-id-4 label.sk-toggleable__label {cursor: pointer;display: block;width: 100%;margin-bottom: 0;padding: 0.3em;box-sizing: border-box;text-align: center;}#sk-container-id-4 label.sk-toggleable__label-arrow:before {content: \"▸\";float: left;margin-right: 0.25em;color: #696969;}#sk-container-id-4 label.sk-toggleable__label-arrow:hover:before {color: black;}#sk-container-id-4 div.sk-estimator:hover label.sk-toggleable__label-arrow:before {color: black;}#sk-container-id-4 div.sk-toggleable__content {max-height: 0;max-width: 0;overflow: hidden;text-align: left;background-color: #f0f8ff;}#sk-container-id-4 div.sk-toggleable__content pre {margin: 0.2em;color: black;border-radius: 0.25em;background-color: #f0f8ff;}#sk-container-id-4 input.sk-toggleable__control:checked~div.sk-toggleable__content {max-height: 200px;max-width: 100%;overflow: auto;}#sk-container-id-4 input.sk-toggleable__control:checked~label.sk-toggleable__label-arrow:before {content: \"▾\";}#sk-container-id-4 div.sk-estimator input.sk-toggleable__control:checked~label.sk-toggleable__label {background-color: #d4ebff;}#sk-container-id-4 div.sk-label input.sk-toggleable__control:checked~label.sk-toggleable__label {background-color: #d4ebff;}#sk-container-id-4 input.sk-hidden--visually {border: 0;clip: rect(1px 1px 1px 1px);clip: rect(1px, 1px, 1px, 1px);height: 1px;margin: -1px;overflow: hidden;padding: 0;position: absolute;width: 1px;}#sk-container-id-4 div.sk-estimator {font-family: monospace;background-color: #f0f8ff;border: 1px dotted black;border-radius: 0.25em;box-sizing: border-box;margin-bottom: 0.5em;}#sk-container-id-4 div.sk-estimator:hover {background-color: #d4ebff;}#sk-container-id-4 div.sk-parallel-item::after {content: \"\";width: 100%;border-bottom: 1px solid gray;flex-grow: 1;}#sk-container-id-4 div.sk-label:hover label.sk-toggleable__label {background-color: #d4ebff;}#sk-container-id-4 div.sk-serial::before {content: \"\";position: absolute;border-left: 1px solid gray;box-sizing: border-box;top: 0;bottom: 0;left: 50%;z-index: 0;}#sk-container-id-4 div.sk-serial {display: flex;flex-direction: column;align-items: center;background-color: white;padding-right: 0.2em;padding-left: 0.2em;position: relative;}#sk-container-id-4 div.sk-item {position: relative;z-index: 1;}#sk-container-id-4 div.sk-parallel {display: flex;align-items: stretch;justify-content: center;background-color: white;position: relative;}#sk-container-id-4 div.sk-item::before, #sk-container-id-4 div.sk-parallel-item::before {content: \"\";position: absolute;border-left: 1px solid gray;box-sizing: border-box;top: 0;bottom: 0;left: 50%;z-index: -1;}#sk-container-id-4 div.sk-parallel-item {display: flex;flex-direction: column;z-index: 1;position: relative;background-color: white;}#sk-container-id-4 div.sk-parallel-item:first-child::after {align-self: flex-end;width: 50%;}#sk-container-id-4 div.sk-parallel-item:last-child::after {align-self: flex-start;width: 50%;}#sk-container-id-4 div.sk-parallel-item:only-child::after {width: 0;}#sk-container-id-4 div.sk-dashed-wrapped {border: 1px dashed gray;margin: 0 0.4em 0.5em 0.4em;box-sizing: border-box;padding-bottom: 0.4em;background-color: white;}#sk-container-id-4 div.sk-label label {font-family: monospace;font-weight: bold;display: inline-block;line-height: 1.2em;}#sk-container-id-4 div.sk-label-container {text-align: center;}#sk-container-id-4 div.sk-container {/* jupyter's `normalize.less` sets `[hidden] { display: none; }` but bootstrap.min.css set `[hidden] { display: none !important; }` so we also need the `!important` here to be able to override the default hidden behavior on the sphinx rendered scikit-learn.org. See: https://github.com/scikit-learn/scikit-learn/issues/21755 */display: inline-block !important;position: relative;}#sk-container-id-4 div.sk-text-repr-fallback {display: none;}</style><div id=\"sk-container-id-4\" class=\"sk-top-container\"><div class=\"sk-text-repr-fallback\"><pre>BernoulliNB()</pre><b>In a Jupyter environment, please rerun this cell to show the HTML representation or trust the notebook. <br />On GitHub, the HTML representation is unable to render, please try loading this page with nbviewer.org.</b></div><div class=\"sk-container\" hidden><div class=\"sk-item\"><div class=\"sk-estimator sk-toggleable\"><input class=\"sk-toggleable__control sk-hidden--visually\" id=\"sk-estimator-id-6\" type=\"checkbox\" checked><label for=\"sk-estimator-id-6\" class=\"sk-toggleable__label sk-toggleable__label-arrow\">BernoulliNB</label><div class=\"sk-toggleable__content\"><pre>BernoulliNB()</pre></div></div></div></div></div>"
      ],
      "text/plain": [
       "BernoulliNB()"
      ]
     },
     "execution_count": 33,
     "metadata": {},
     "output_type": "execute_result"
    }
   ],
   "source": [
    "#from sklearn.naive_bayes import BernoulliNB\n",
    "Classifier_bnb = BernoulliNB()  # BernoulliNB()\n",
    "Classifier_bnb.fit(xtrain_tfidf,train_y)"
   ]
  },
  {
   "cell_type": "code",
   "execution_count": 34,
   "id": "de62341e",
   "metadata": {},
   "outputs": [],
   "source": [
    "pred_bnb=Classifier_bnb.predict(xvalid_tfidf)"
   ]
  },
  {
   "cell_type": "code",
   "execution_count": 35,
   "id": "5bd29001",
   "metadata": {},
   "outputs": [
    {
     "name": "stdout",
     "output_type": "stream",
     "text": [
      "Accuracy_BernoulliNB(in %): 0.91\n"
     ]
    }
   ],
   "source": [
    "Accuracy_BernoulliNB=round(metrics.accuracy_score(pred_bnb,valid_y),2)\n",
    "print(\"Accuracy_BernoulliNB(in %):\", Accuracy_BernoulliNB)"
   ]
  },
  {
   "cell_type": "code",
   "execution_count": 36,
   "id": "5dff6135",
   "metadata": {},
   "outputs": [
    {
     "name": "stdout",
     "output_type": "stream",
     "text": [
      "[[ 129  124]\n",
      " [  48 1598]]\n",
      "              precision    recall  f1-score   support\n",
      "\n",
      "           0       0.73      0.51      0.60       253\n",
      "           1       0.93      0.97      0.95      1646\n",
      "\n",
      "    accuracy                           0.91      1899\n",
      "   macro avg       0.83      0.74      0.77      1899\n",
      "weighted avg       0.90      0.91      0.90      1899\n",
      "\n"
     ]
    }
   ],
   "source": [
    "# print classification report\n",
    "print(confusion_matrix(valid_y,pred_bnb))\n",
    "print(classification_report(valid_y, pred_bnb))"
   ]
  },
  {
   "attachments": {},
   "cell_type": "markdown",
   "id": "b12d9174",
   "metadata": {},
   "source": [
    "------------"
   ]
  },
  {
   "attachments": {},
   "cell_type": "markdown",
   "id": "1e2d31a1",
   "metadata": {},
   "source": [
    "MultinomialNB():"
   ]
  },
  {
   "cell_type": "code",
   "execution_count": 37,
   "id": "17cfbb3b",
   "metadata": {},
   "outputs": [
    {
     "data": {
      "text/html": [
       "<style>#sk-container-id-5 {color: black;}#sk-container-id-5 pre{padding: 0;}#sk-container-id-5 div.sk-toggleable {background-color: white;}#sk-container-id-5 label.sk-toggleable__label {cursor: pointer;display: block;width: 100%;margin-bottom: 0;padding: 0.3em;box-sizing: border-box;text-align: center;}#sk-container-id-5 label.sk-toggleable__label-arrow:before {content: \"▸\";float: left;margin-right: 0.25em;color: #696969;}#sk-container-id-5 label.sk-toggleable__label-arrow:hover:before {color: black;}#sk-container-id-5 div.sk-estimator:hover label.sk-toggleable__label-arrow:before {color: black;}#sk-container-id-5 div.sk-toggleable__content {max-height: 0;max-width: 0;overflow: hidden;text-align: left;background-color: #f0f8ff;}#sk-container-id-5 div.sk-toggleable__content pre {margin: 0.2em;color: black;border-radius: 0.25em;background-color: #f0f8ff;}#sk-container-id-5 input.sk-toggleable__control:checked~div.sk-toggleable__content {max-height: 200px;max-width: 100%;overflow: auto;}#sk-container-id-5 input.sk-toggleable__control:checked~label.sk-toggleable__label-arrow:before {content: \"▾\";}#sk-container-id-5 div.sk-estimator input.sk-toggleable__control:checked~label.sk-toggleable__label {background-color: #d4ebff;}#sk-container-id-5 div.sk-label input.sk-toggleable__control:checked~label.sk-toggleable__label {background-color: #d4ebff;}#sk-container-id-5 input.sk-hidden--visually {border: 0;clip: rect(1px 1px 1px 1px);clip: rect(1px, 1px, 1px, 1px);height: 1px;margin: -1px;overflow: hidden;padding: 0;position: absolute;width: 1px;}#sk-container-id-5 div.sk-estimator {font-family: monospace;background-color: #f0f8ff;border: 1px dotted black;border-radius: 0.25em;box-sizing: border-box;margin-bottom: 0.5em;}#sk-container-id-5 div.sk-estimator:hover {background-color: #d4ebff;}#sk-container-id-5 div.sk-parallel-item::after {content: \"\";width: 100%;border-bottom: 1px solid gray;flex-grow: 1;}#sk-container-id-5 div.sk-label:hover label.sk-toggleable__label {background-color: #d4ebff;}#sk-container-id-5 div.sk-serial::before {content: \"\";position: absolute;border-left: 1px solid gray;box-sizing: border-box;top: 0;bottom: 0;left: 50%;z-index: 0;}#sk-container-id-5 div.sk-serial {display: flex;flex-direction: column;align-items: center;background-color: white;padding-right: 0.2em;padding-left: 0.2em;position: relative;}#sk-container-id-5 div.sk-item {position: relative;z-index: 1;}#sk-container-id-5 div.sk-parallel {display: flex;align-items: stretch;justify-content: center;background-color: white;position: relative;}#sk-container-id-5 div.sk-item::before, #sk-container-id-5 div.sk-parallel-item::before {content: \"\";position: absolute;border-left: 1px solid gray;box-sizing: border-box;top: 0;bottom: 0;left: 50%;z-index: -1;}#sk-container-id-5 div.sk-parallel-item {display: flex;flex-direction: column;z-index: 1;position: relative;background-color: white;}#sk-container-id-5 div.sk-parallel-item:first-child::after {align-self: flex-end;width: 50%;}#sk-container-id-5 div.sk-parallel-item:last-child::after {align-self: flex-start;width: 50%;}#sk-container-id-5 div.sk-parallel-item:only-child::after {width: 0;}#sk-container-id-5 div.sk-dashed-wrapped {border: 1px dashed gray;margin: 0 0.4em 0.5em 0.4em;box-sizing: border-box;padding-bottom: 0.4em;background-color: white;}#sk-container-id-5 div.sk-label label {font-family: monospace;font-weight: bold;display: inline-block;line-height: 1.2em;}#sk-container-id-5 div.sk-label-container {text-align: center;}#sk-container-id-5 div.sk-container {/* jupyter's `normalize.less` sets `[hidden] { display: none; }` but bootstrap.min.css set `[hidden] { display: none !important; }` so we also need the `!important` here to be able to override the default hidden behavior on the sphinx rendered scikit-learn.org. See: https://github.com/scikit-learn/scikit-learn/issues/21755 */display: inline-block !important;position: relative;}#sk-container-id-5 div.sk-text-repr-fallback {display: none;}</style><div id=\"sk-container-id-5\" class=\"sk-top-container\"><div class=\"sk-text-repr-fallback\"><pre>MultinomialNB()</pre><b>In a Jupyter environment, please rerun this cell to show the HTML representation or trust the notebook. <br />On GitHub, the HTML representation is unable to render, please try loading this page with nbviewer.org.</b></div><div class=\"sk-container\" hidden><div class=\"sk-item\"><div class=\"sk-estimator sk-toggleable\"><input class=\"sk-toggleable__control sk-hidden--visually\" id=\"sk-estimator-id-7\" type=\"checkbox\" checked><label for=\"sk-estimator-id-7\" class=\"sk-toggleable__label sk-toggleable__label-arrow\">MultinomialNB</label><div class=\"sk-toggleable__content\"><pre>MultinomialNB()</pre></div></div></div></div></div>"
      ],
      "text/plain": [
       "MultinomialNB()"
      ]
     },
     "execution_count": 37,
     "metadata": {},
     "output_type": "execute_result"
    }
   ],
   "source": [
    "Classifier_mnb = MultinomialNB()  \n",
    "Classifier_mnb.fit(xtrain_tfidf,train_y)"
   ]
  },
  {
   "cell_type": "code",
   "execution_count": 38,
   "id": "6661662a",
   "metadata": {},
   "outputs": [],
   "source": [
    "pred_mnb=Classifier_mnb.predict(xvalid_tfidf)"
   ]
  },
  {
   "cell_type": "code",
   "execution_count": 39,
   "id": "85e4914b",
   "metadata": {},
   "outputs": [
    {
     "name": "stdout",
     "output_type": "stream",
     "text": [
      "Accuracy_MultinomialNB(in %): 0.87\n"
     ]
    }
   ],
   "source": [
    "Accuracy_MultinomialNB=round(metrics.accuracy_score(pred_mnb,valid_y),2)\n",
    "print(\"Accuracy_MultinomialNB(in %):\", Accuracy_MultinomialNB)"
   ]
  },
  {
   "cell_type": "code",
   "execution_count": 40,
   "id": "03474d07",
   "metadata": {},
   "outputs": [
    {
     "name": "stdout",
     "output_type": "stream",
     "text": [
      "[[   1  252]\n",
      " [   0 1646]]\n",
      "              precision    recall  f1-score   support\n",
      "\n",
      "           0       1.00      0.00      0.01       253\n",
      "           1       0.87      1.00      0.93      1646\n",
      "\n",
      "    accuracy                           0.87      1899\n",
      "   macro avg       0.93      0.50      0.47      1899\n",
      "weighted avg       0.88      0.87      0.81      1899\n",
      "\n"
     ]
    }
   ],
   "source": [
    "# print classification report\n",
    "print(confusion_matrix(valid_y,pred_mnb))\n",
    "print(classification_report(valid_y, pred_mnb))"
   ]
  },
  {
   "attachments": {},
   "cell_type": "markdown",
   "id": "6ce9e2e1",
   "metadata": {},
   "source": [
    "---\n",
    "---"
   ]
  },
  {
   "attachments": {},
   "cell_type": "markdown",
   "id": "2b1b2eed",
   "metadata": {},
   "source": [
    "### *Result*"
   ]
  },
  {
   "cell_type": "code",
   "execution_count": 41,
   "id": "740e2e6f",
   "metadata": {},
   "outputs": [
    {
     "data": {
      "text/plain": [
       "Text(0.5, 1.0, 'RESULT')"
      ]
     },
     "execution_count": 41,
     "metadata": {},
     "output_type": "execute_result"
    },
    {
     "data": {
      "image/png": "[encoded data removed]",
      "text/plain": [
       "<Figure size 1200x600 with 1 Axes>"
      ]
     },
     "metadata": {},
     "output_type": "display_data"
    }
   ],
   "source": [
    "MODEL = [\"Logistic Regression\",\"SVM_Simple\",\"SVM_GridSearchCV\",\"Decision Tree\",\"BernoulliNB\",\"MultinomialNB\"]\n",
    "ACCURACY=[Accuracy_LR,Accuracy_SVM,Accuracy_SVM_GridSearchCV,Accuracy_DT,Accuracy_BernoulliNB,Accuracy_MultinomialNB]\n",
    "\n",
    "df = pd.DataFrame({\"MODEL\":MODEL, \"ACCURACY\":ACCURACY})\n",
    "\n",
    "plt.figure(figsize=(12, 6))\n",
    "\n",
    "splot=sns.barplot(x=\"MODEL\",y=\"ACCURACY\",data=df, edgecolor = 'black', palette=\"Blues_d\", linewidth=2)\n",
    "for p in splot.patches:\n",
    "    splot.annotate(format(p.get_height(), '.2f'), \n",
    "                   (p.get_x() + p.get_width() / 2., p.get_height()), \n",
    "                   ha = 'center', va = 'center', \n",
    "                   xytext = (0, 9), \n",
    "                   textcoords = 'offset points')\n",
    "        \n",
    "plt.grid(color='y', linestyle='-.', linewidth=1)\n",
    "#sns.set_style('whitegrid')\n",
    "sns.set_style('darkgrid')\n",
    "\n",
    "\n",
    "plt.xticks(rotation=25, horizontalalignment=\"center\", fontsize=13, color='brown')\n",
    "plt.xlabel(\"MODEL\", fontname='Comic Sans MS',  size=14).set_color('green')\n",
    "plt.ylabel(\"ACCURACY\", fontname='Comic Sans MS', size=14).set_color('green')\n",
    "plt.savefig('Result Accuracy.png' ,dpi=200)\n",
    "plt.title(\"RESULT\",fontname=\"Times New Roman\", fontweight=\"bold\", size=18, style='italic')"
   ]
  }
 ],
 "metadata": {
  "kernelspec": {
   "display_name": "Python 3 (ipykernel)",
   "language": "python",
   "name": "python3"
  },
  "language_info": {
   "codemirror_mode": {
    "name": "ipython",
    "version": 3
   },
   "file_extension": ".py",
   "mimetype": "text/x-python",
   "name": "python",
   "nbconvert_exporter": "python",
   "pygments_lexer": "ipython3",
   "version": "3.10.9"
  }
 },
 "nbformat": 4,
 "nbformat_minor": 5
}
